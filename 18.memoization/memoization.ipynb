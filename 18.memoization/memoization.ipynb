{
 "cells": [
  {
   "cell_type": "code",
   "execution_count": 3,
   "id": "0930ac15",
   "metadata": {},
   "outputs": [],
   "source": [
    "def fibb(a):\n",
    "    if a==0:\n",
    "        return 0 \n",
    "    elif a==1:\n",
    "        return 1\n",
    "    else:\n",
    "        return fibb(a-1)+fibb(a-2)"
   ]
  },
  {
   "cell_type": "code",
   "execution_count": 18,
   "id": "8cacee24",
   "metadata": {},
   "outputs": [
    {
     "name": "stdout",
     "output_type": "stream",
     "text": [
      "2.9533607959747314\n"
     ]
    }
   ],
   "source": [
    "import time\n",
    "start=time.time()\n",
    "fibb(35)\n",
    "end=time.time()\n",
    "\n",
    "print(end-start)"
   ]
  },
  {
   "cell_type": "code",
   "execution_count": null,
   "id": "31cd9f29",
   "metadata": {},
   "outputs": [],
   "source": [
    "# using memoization\n",
    "def fib(num,dict):\n",
    "    if num in dict:\n",
    "        return dict[num]\n",
    "    else:\n",
    "        dict[num]=fib(num-1,dict)+fib(num-2,dict)\n",
    "        return dict[num]"
   ]
  },
  {
   "cell_type": "code",
   "execution_count": 29,
   "id": "5017a1c4",
   "metadata": {},
   "outputs": [
    {
     "name": "stdout",
     "output_type": "stream",
     "text": [
      "0.001566171646118164\n"
     ]
    }
   ],
   "source": [
    "start=time.time()\n",
    "dict={0:1,1:1}\n",
    "fib(100,dict)\n",
    "end=time.time()\n",
    "\n",
    "print(end-start)"
   ]
  },
  {
   "cell_type": "markdown",
   "id": "53d3477d",
   "metadata": {},
   "source": []
  }
 ],
 "metadata": {
  "kernelspec": {
   "display_name": "Python 3",
   "language": "python",
   "name": "python3"
  },
  "language_info": {
   "codemirror_mode": {
    "name": "ipython",
    "version": 3
   },
   "file_extension": ".py",
   "mimetype": "text/x-python",
   "name": "python",
   "nbconvert_exporter": "python",
   "pygments_lexer": "ipython3",
   "version": "3.13.2"
  }
 },
 "nbformat": 4,
 "nbformat_minor": 5
}
